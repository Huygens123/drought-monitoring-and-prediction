{
 "cells": [
  {
   "cell_type": "code",
   "execution_count": 1,
   "id": "9b2becf6-724f-4e69-839f-995efb988eed",
   "metadata": {},
   "outputs": [],
   "source": [
    "import ee\n",
    "import pandas as pd\n",
    "import numpy as np\n",
    "import geopandas as gpd\n",
    "import json\n",
    "from shapely.geometry import Point\n",
    "# import geemap.core as geemap\n",
    "import folium\n",
    "from IPython.display import Image\n",
    "import geemap"
   ]
  },
  {
   "cell_type": "code",
   "execution_count": 2,
   "id": "63eb297e-3664-4646-a65c-f7912909ee04",
   "metadata": {},
   "outputs": [
    {
     "data": {
      "text/html": [
       "\n",
       "            <style>\n",
       "                .geemap-dark {\n",
       "                    --jp-widgets-color: white;\n",
       "                    --jp-widgets-label-color: white;\n",
       "                    --jp-ui-font-color1: white;\n",
       "                    --jp-layout-color2: #454545;\n",
       "                    background-color: #383838;\n",
       "                }\n",
       "\n",
       "                .geemap-dark .jupyter-button {\n",
       "                    --jp-layout-color3: #383838;\n",
       "                }\n",
       "\n",
       "                .geemap-colab {\n",
       "                    background-color: var(--colab-primary-surface-color, white);\n",
       "                }\n",
       "\n",
       "                .geemap-colab .jupyter-button {\n",
       "                    --jp-layout-color3: var(--colab-primary-surface-color, white);\n",
       "                }\n",
       "            </style>\n",
       "            "
      ],
      "text/plain": [
       "<IPython.core.display.HTML object>"
      ]
     },
     "metadata": {},
     "output_type": "display_data"
    },
    {
     "data": {
      "text/html": [
       "<p>To authorize access needed by Earth Engine, open the following\n",
       "        URL in a web browser and follow the instructions:</p>\n",
       "        <p><a href=https://code.earthengine.google.com/client-auth?scopes=https%3A//www.googleapis.com/auth/earthengine%20https%3A//www.googleapis.com/auth/cloud-platform%20https%3A//www.googleapis.com/auth/devstorage.full_control&request_id=lq3zc-1XrGd8jg5jYW2QV9JQqbRKj2DwzeE2lALiyDI&tc=TVFnZBAvgPVZb0Yy7kKZOqoV0G8v8CXWFroJ2qQCFPI&cc=JVcl_-g6Jw4owoOazo7-MQ3WR_5mrqTGLEtv8_iO9TM>https://code.earthengine.google.com/client-auth?scopes=https%3A//www.googleapis.com/auth/earthengine%20https%3A//www.googleapis.com/auth/cloud-platform%20https%3A//www.googleapis.com/auth/devstorage.full_control&request_id=lq3zc-1XrGd8jg5jYW2QV9JQqbRKj2DwzeE2lALiyDI&tc=TVFnZBAvgPVZb0Yy7kKZOqoV0G8v8CXWFroJ2qQCFPI&cc=JVcl_-g6Jw4owoOazo7-MQ3WR_5mrqTGLEtv8_iO9TM</a></p>\n",
       "        <p>The authorization workflow will generate a code, which you should paste in the box below.</p>\n",
       "        "
      ],
      "text/plain": [
       "<IPython.core.display.HTML object>"
      ]
     },
     "metadata": {},
     "output_type": "display_data"
    },
    {
     "name": "stdin",
     "output_type": "stream",
     "text": [
      "Enter verification code:  4/1AQSTgQFGPXQOWlsHqZyUApD6hKYDkIJbY2JsrPzZlm1cpD_sEoLEKsOc3GY\n"
     ]
    },
    {
     "name": "stdout",
     "output_type": "stream",
     "text": [
      "\n",
      "Successfully saved authorization token.\n"
     ]
    }
   ],
   "source": [
    "ee.Authenticate()\n",
    "ee.Initialize()"
   ]
  },
  {
   "cell_type": "code",
   "execution_count": 4,
   "id": "705166fd-ac8a-4d6f-b691-ff0d5a903337",
   "metadata": {},
   "outputs": [
    {
     "data": {
      "text/html": [
       "\n",
       "            <style>\n",
       "                .geemap-dark {\n",
       "                    --jp-widgets-color: white;\n",
       "                    --jp-widgets-label-color: white;\n",
       "                    --jp-ui-font-color1: white;\n",
       "                    --jp-layout-color2: #454545;\n",
       "                    background-color: #383838;\n",
       "                }\n",
       "\n",
       "                .geemap-dark .jupyter-button {\n",
       "                    --jp-layout-color3: #383838;\n",
       "                }\n",
       "\n",
       "                .geemap-colab {\n",
       "                    background-color: var(--colab-primary-surface-color, white);\n",
       "                }\n",
       "\n",
       "                .geemap-colab .jupyter-button {\n",
       "                    --jp-layout-color3: var(--colab-primary-surface-color, white);\n",
       "                }\n",
       "            </style>\n",
       "            "
      ],
      "text/plain": [
       "<IPython.core.display.HTML object>"
      ]
     },
     "metadata": {},
     "output_type": "display_data"
    }
   ],
   "source": [
    "studyArea = (\n",
    "    ee.FeatureCollection(\"FAO/GAUL_SIMPLIFIED_500m/2015/level2\")\n",
    "    .filter(ee.Filter.equals('ADM1_NAME', 'Taraba'))\n",
    ")\n",
    "studyArea.di"
   ]
  },
  {
   "cell_type": "code",
   "execution_count": 11,
   "id": "747f5d4a-5052-46ea-84e7-21ac3388df80",
   "metadata": {},
   "outputs": [
    {
     "data": {
      "text/html": [
       "\n",
       "            <style>\n",
       "                .geemap-dark {\n",
       "                    --jp-widgets-color: white;\n",
       "                    --jp-widgets-label-color: white;\n",
       "                    --jp-ui-font-color1: white;\n",
       "                    --jp-layout-color2: #454545;\n",
       "                    background-color: #383838;\n",
       "                }\n",
       "\n",
       "                .geemap-dark .jupyter-button {\n",
       "                    --jp-layout-color3: #383838;\n",
       "                }\n",
       "\n",
       "                .geemap-colab {\n",
       "                    background-color: var(--colab-primary-surface-color, white);\n",
       "                }\n",
       "\n",
       "                .geemap-colab .jupyter-button {\n",
       "                    --jp-layout-color3: var(--colab-primary-surface-color, white);\n",
       "                }\n",
       "            </style>\n",
       "            "
      ],
      "text/plain": [
       "<IPython.core.display.HTML object>"
      ]
     },
     "metadata": {},
     "output_type": "display_data"
    },
    {
     "data": {
      "application/vnd.jupyter.widget-view+json": {
       "model_id": "1fcfcca7b255436a8439b2bd59c938be",
       "version_major": 2,
       "version_minor": 0
      },
      "text/plain": [
       "Map(center=[8.029871402180769, 10.82849788835878], controls=(WidgetControl(options=['position', 'transparent_b…"
      ]
     },
     "execution_count": 11,
     "metadata": {},
     "output_type": "execute_result"
    }
   ],
   "source": [
    "m = geemap.Map()\n",
    "m.add_layer(studyArea, {}, 'Taraba', False)\n",
    "m.center_object(studyArea, 7)\n",
    "m"
   ]
  },
  {
   "cell_type": "code",
   "execution_count": 13,
   "id": "005b91bf-f2d8-49ab-9a83-1867fd37570b",
   "metadata": {},
   "outputs": [
    {
     "data": {
      "text/html": [
       "\n",
       "            <style>\n",
       "                .geemap-dark {\n",
       "                    --jp-widgets-color: white;\n",
       "                    --jp-widgets-label-color: white;\n",
       "                    --jp-ui-font-color1: white;\n",
       "                    --jp-layout-color2: #454545;\n",
       "                    background-color: #383838;\n",
       "                }\n",
       "\n",
       "                .geemap-dark .jupyter-button {\n",
       "                    --jp-layout-color3: #383838;\n",
       "                }\n",
       "\n",
       "                .geemap-colab {\n",
       "                    background-color: var(--colab-primary-surface-color, white);\n",
       "                }\n",
       "\n",
       "                .geemap-colab .jupyter-button {\n",
       "                    --jp-layout-color3: var(--colab-primary-surface-color, white);\n",
       "                }\n",
       "            </style>\n",
       "            "
      ],
      "text/plain": [
       "<IPython.core.display.HTML object>"
      ]
     },
     "metadata": {},
     "output_type": "display_data"
    }
   ],
   "source": [
    "chirp = (\n",
    "    ee.ImageCollection(\"UCSB-CHG/CHIRPS/PENTAD\")\n",
    ")"
   ]
  },
  {
   "cell_type": "code",
   "execution_count": 28,
   "id": "5d642e2e-81be-4909-890a-abf389c7eb2c",
   "metadata": {},
   "outputs": [
    {
     "data": {
      "text/html": [
       "\n",
       "            <style>\n",
       "                .geemap-dark {\n",
       "                    --jp-widgets-color: white;\n",
       "                    --jp-widgets-label-color: white;\n",
       "                    --jp-ui-font-color1: white;\n",
       "                    --jp-layout-color2: #454545;\n",
       "                    background-color: #383838;\n",
       "                }\n",
       "\n",
       "                .geemap-dark .jupyter-button {\n",
       "                    --jp-layout-color3: #383838;\n",
       "                }\n",
       "\n",
       "                .geemap-colab {\n",
       "                    background-color: var(--colab-primary-surface-color, white);\n",
       "                }\n",
       "\n",
       "                .geemap-colab .jupyter-button {\n",
       "                    --jp-layout-color3: var(--colab-primary-surface-color, white);\n",
       "                }\n",
       "            </style>\n",
       "            "
      ],
      "text/plain": [
       "<IPython.core.display.HTML object>"
      ]
     },
     "metadata": {},
     "output_type": "display_data"
    }
   ],
   "source": [
    "firsImage = ee.Date(ee.List(chirp.get('date_range')).get(0))\n",
    "lastImage = ee.Date(\"2024-11-09\")"
   ]
  },
  {
   "cell_type": "code",
   "execution_count": 18,
   "id": "1e93c36a-bba0-4df0-ba63-686d6e395ddf",
   "metadata": {},
   "outputs": [
    {
     "data": {
      "text/html": [
       "\n",
       "            <style>\n",
       "                .geemap-dark {\n",
       "                    --jp-widgets-color: white;\n",
       "                    --jp-widgets-label-color: white;\n",
       "                    --jp-ui-font-color1: white;\n",
       "                    --jp-layout-color2: #454545;\n",
       "                    background-color: #383838;\n",
       "                }\n",
       "\n",
       "                .geemap-dark .jupyter-button {\n",
       "                    --jp-layout-color3: #383838;\n",
       "                }\n",
       "\n",
       "                .geemap-colab {\n",
       "                    background-color: var(--colab-primary-surface-color, white);\n",
       "                }\n",
       "\n",
       "                .geemap-colab .jupyter-button {\n",
       "                    --jp-layout-color3: var(--colab-primary-surface-color, white);\n",
       "                }\n",
       "            </style>\n",
       "            "
      ],
      "text/plain": [
       "<IPython.core.display.HTML object>"
      ]
     },
     "metadata": {},
     "output_type": "display_data"
    }
   ],
   "source": [
    "# set resolution\n",
    "resolution = 5550"
   ]
  },
  {
   "cell_type": "code",
   "execution_count": 19,
   "id": "d8bc8d9e-64c6-42d3-8134-3a702bbb3016",
   "metadata": {},
   "outputs": [
    {
     "data": {
      "text/html": [
       "\n",
       "            <style>\n",
       "                .geemap-dark {\n",
       "                    --jp-widgets-color: white;\n",
       "                    --jp-widgets-label-color: white;\n",
       "                    --jp-ui-font-color1: white;\n",
       "                    --jp-layout-color2: #454545;\n",
       "                    background-color: #383838;\n",
       "                }\n",
       "\n",
       "                .geemap-dark .jupyter-button {\n",
       "                    --jp-layout-color3: #383838;\n",
       "                }\n",
       "\n",
       "                .geemap-colab {\n",
       "                    background-color: var(--colab-primary-surface-color, white);\n",
       "                }\n",
       "\n",
       "                .geemap-colab .jupyter-button {\n",
       "                    --jp-layout-color3: var(--colab-primary-surface-color, white);\n",
       "                }\n",
       "            </style>\n",
       "            "
      ],
      "text/plain": [
       "<IPython.core.display.HTML object>"
      ]
     },
     "metadata": {},
     "output_type": "display_data"
    }
   ],
   "source": [
    "# set time scale information for spi\n",
    "timestep = '2'"
   ]
  },
  {
   "cell_type": "code",
   "execution_count": 26,
   "id": "e1663635-57e0-4a27-a2d0-22feb8e8ba1c",
   "metadata": {},
   "outputs": [
    {
     "data": {
      "text/html": [
       "\n",
       "            <style>\n",
       "                .geemap-dark {\n",
       "                    --jp-widgets-color: white;\n",
       "                    --jp-widgets-label-color: white;\n",
       "                    --jp-ui-font-color1: white;\n",
       "                    --jp-layout-color2: #454545;\n",
       "                    background-color: #383838;\n",
       "                }\n",
       "\n",
       "                .geemap-dark .jupyter-button {\n",
       "                    --jp-layout-color3: #383838;\n",
       "                }\n",
       "\n",
       "                .geemap-colab {\n",
       "                    background-color: var(--colab-primary-surface-color, white);\n",
       "                }\n",
       "\n",
       "                .geemap-colab .jupyter-button {\n",
       "                    --jp-layout-color3: var(--colab-primary-surface-color, white);\n",
       "                }\n",
       "            </style>\n",
       "            "
      ],
      "text/plain": [
       "<IPython.core.display.HTML object>"
      ]
     },
     "metadata": {},
     "output_type": "display_data"
    }
   ],
   "source": [
    "# monthly spi\n",
    "thresholdMonths = ee.Number(12)\n",
    "\n",
    "# for lag of one for\n",
    "timedif = lastImage.difference(firsImage, 'month').divide(ee.Number.parse(timestep))\n",
    "\n",
    "list_ = ee.List.sequence(0, timedif)   #to create the list"
   ]
  },
  {
   "cell_type": "code",
   "execution_count": 31,
   "id": "2f3524a1-a4ed-4876-ada4-c4d42f63cfee",
   "metadata": {},
   "outputs": [
    {
     "data": {
      "text/html": [
       "\n",
       "            <style>\n",
       "                .geemap-dark {\n",
       "                    --jp-widgets-color: white;\n",
       "                    --jp-widgets-label-color: white;\n",
       "                    --jp-ui-font-color1: white;\n",
       "                    --jp-layout-color2: #454545;\n",
       "                    background-color: #383838;\n",
       "                }\n",
       "\n",
       "                .geemap-dark .jupyter-button {\n",
       "                    --jp-layout-color3: #383838;\n",
       "                }\n",
       "\n",
       "                .geemap-colab {\n",
       "                    background-color: var(--colab-primary-surface-color, white);\n",
       "                }\n",
       "\n",
       "                .geemap-colab .jupyter-button {\n",
       "                    --jp-layout-color3: var(--colab-primary-surface-color, white);\n",
       "                }\n",
       "            </style>\n",
       "            "
      ],
      "text/plain": [
       "<IPython.core.display.HTML object>"
      ]
     },
     "metadata": {},
     "output_type": "display_data"
    }
   ],
   "source": [
    "# map the date\n",
    "\n",
    "def timeList(month):\n",
    "    zero = ee.Number(0)\n",
    "    delta = zero.subtract(month).multiply(ee.Number.parse(timestep))\n",
    "    latestDate = lastImage.advance(1, 'day')\n",
    "    return latestDate.advance(delta, 'month')\n",
    "\n",
    "timeListDate = list_.map(timeList)"
   ]
  },
  {
   "cell_type": "code",
   "execution_count": 35,
   "id": "bc20147a-4a7c-4b31-9e75-a37a27ae354c",
   "metadata": {
    "scrolled": true
   },
   "outputs": [
    {
     "data": {
      "text/html": [
       "\n",
       "            <style>\n",
       "                .geemap-dark {\n",
       "                    --jp-widgets-color: white;\n",
       "                    --jp-widgets-label-color: white;\n",
       "                    --jp-ui-font-color1: white;\n",
       "                    --jp-layout-color2: #454545;\n",
       "                    background-color: #383838;\n",
       "                }\n",
       "\n",
       "                .geemap-dark .jupyter-button {\n",
       "                    --jp-layout-color3: #383838;\n",
       "                }\n",
       "\n",
       "                .geemap-colab {\n",
       "                    background-color: var(--colab-primary-surface-color, white);\n",
       "                }\n",
       "\n",
       "                .geemap-colab .jupyter-button {\n",
       "                    --jp-layout-color3: var(--colab-primary-surface-color, white);\n",
       "                }\n",
       "            </style>\n",
       "            "
      ],
      "text/plain": [
       "<IPython.core.display.HTML object>"
      ]
     },
     "metadata": {},
     "output_type": "display_data"
    },
    {
     "name": "stdout",
     "output_type": "stream",
     "text": [
      "[{'type': 'Date', 'value': 1731196800000}, {'type': 'Date', 'value': 1725926400000}, {'type': 'Date', 'value': 1720569600000}, {'type': 'Date', 'value': 1715299200000}, {'type': 'Date', 'value': 1710028800000}, {'type': 'Date', 'value': 1704844800000}, {'type': 'Date', 'value': 1699574400000}, {'type': 'Date', 'value': 1694304000000}, {'type': 'Date', 'value': 1688947200000}, {'type': 'Date', 'value': 1683676800000}, {'type': 'Date', 'value': 1678406400000}, {'type': 'Date', 'value': 1673308800000}, {'type': 'Date', 'value': 1668038400000}, {'type': 'Date', 'value': 1662768000000}, {'type': 'Date', 'value': 1657411200000}, {'type': 'Date', 'value': 1652140800000}, {'type': 'Date', 'value': 1646870400000}, {'type': 'Date', 'value': 1641772800000}, {'type': 'Date', 'value': 1636502400000}, {'type': 'Date', 'value': 1631232000000}, {'type': 'Date', 'value': 1625875200000}, {'type': 'Date', 'value': 1620604800000}, {'type': 'Date', 'value': 1615334400000}, {'type': 'Date', 'value': 1610236800000}, {'type': 'Date', 'value': 1604966400000}, {'type': 'Date', 'value': 1599696000000}, {'type': 'Date', 'value': 1594339200000}, {'type': 'Date', 'value': 1589068800000}, {'type': 'Date', 'value': 1583798400000}, {'type': 'Date', 'value': 1578614400000}, {'type': 'Date', 'value': 1573344000000}, {'type': 'Date', 'value': 1568073600000}, {'type': 'Date', 'value': 1562716800000}, {'type': 'Date', 'value': 1557446400000}, {'type': 'Date', 'value': 1552176000000}, {'type': 'Date', 'value': 1547078400000}, {'type': 'Date', 'value': 1541808000000}, {'type': 'Date', 'value': 1536537600000}, {'type': 'Date', 'value': 1531180800000}, {'type': 'Date', 'value': 1525910400000}, {'type': 'Date', 'value': 1520640000000}, {'type': 'Date', 'value': 1515542400000}, {'type': 'Date', 'value': 1510272000000}, {'type': 'Date', 'value': 1505001600000}, {'type': 'Date', 'value': 1499644800000}, {'type': 'Date', 'value': 1494374400000}, {'type': 'Date', 'value': 1489104000000}, {'type': 'Date', 'value': 1484006400000}, {'type': 'Date', 'value': 1478736000000}, {'type': 'Date', 'value': 1473465600000}, {'type': 'Date', 'value': 1468108800000}, {'type': 'Date', 'value': 1462838400000}, {'type': 'Date', 'value': 1457568000000}, {'type': 'Date', 'value': 1452384000000}, {'type': 'Date', 'value': 1447113600000}, {'type': 'Date', 'value': 1441843200000}, {'type': 'Date', 'value': 1436486400000}, {'type': 'Date', 'value': 1431216000000}, {'type': 'Date', 'value': 1425945600000}, {'type': 'Date', 'value': 1420848000000}, {'type': 'Date', 'value': 1415577600000}, {'type': 'Date', 'value': 1410307200000}, {'type': 'Date', 'value': 1404950400000}, {'type': 'Date', 'value': 1399680000000}, {'type': 'Date', 'value': 1394409600000}, {'type': 'Date', 'value': 1389312000000}, {'type': 'Date', 'value': 1384041600000}, {'type': 'Date', 'value': 1378771200000}, {'type': 'Date', 'value': 1373414400000}, {'type': 'Date', 'value': 1368144000000}, {'type': 'Date', 'value': 1362873600000}, {'type': 'Date', 'value': 1357776000000}, {'type': 'Date', 'value': 1352505600000}, {'type': 'Date', 'value': 1347235200000}, {'type': 'Date', 'value': 1341878400000}, {'type': 'Date', 'value': 1336608000000}, {'type': 'Date', 'value': 1331337600000}, {'type': 'Date', 'value': 1326153600000}, {'type': 'Date', 'value': 1320883200000}, {'type': 'Date', 'value': 1315612800000}, {'type': 'Date', 'value': 1310256000000}, {'type': 'Date', 'value': 1304985600000}, {'type': 'Date', 'value': 1299715200000}, {'type': 'Date', 'value': 1294617600000}, {'type': 'Date', 'value': 1289347200000}, {'type': 'Date', 'value': 1284076800000}, {'type': 'Date', 'value': 1278720000000}, {'type': 'Date', 'value': 1273449600000}, {'type': 'Date', 'value': 1268179200000}, {'type': 'Date', 'value': 1263081600000}, {'type': 'Date', 'value': 1257811200000}, {'type': 'Date', 'value': 1252540800000}, {'type': 'Date', 'value': 1247184000000}, {'type': 'Date', 'value': 1241913600000}, {'type': 'Date', 'value': 1236643200000}, {'type': 'Date', 'value': 1231545600000}, {'type': 'Date', 'value': 1226275200000}, {'type': 'Date', 'value': 1221004800000}, {'type': 'Date', 'value': 1215648000000}, {'type': 'Date', 'value': 1210377600000}, {'type': 'Date', 'value': 1205107200000}, {'type': 'Date', 'value': 1199923200000}, {'type': 'Date', 'value': 1194652800000}, {'type': 'Date', 'value': 1189382400000}, {'type': 'Date', 'value': 1184025600000}, {'type': 'Date', 'value': 1178755200000}, {'type': 'Date', 'value': 1173484800000}, {'type': 'Date', 'value': 1168387200000}, {'type': 'Date', 'value': 1163116800000}, {'type': 'Date', 'value': 1157846400000}, {'type': 'Date', 'value': 1152489600000}, {'type': 'Date', 'value': 1147219200000}, {'type': 'Date', 'value': 1141948800000}, {'type': 'Date', 'value': 1136851200000}, {'type': 'Date', 'value': 1131580800000}, {'type': 'Date', 'value': 1126310400000}, {'type': 'Date', 'value': 1120953600000}, {'type': 'Date', 'value': 1115683200000}, {'type': 'Date', 'value': 1110412800000}, {'type': 'Date', 'value': 1105315200000}, {'type': 'Date', 'value': 1100044800000}, {'type': 'Date', 'value': 1094774400000}, {'type': 'Date', 'value': 1089417600000}, {'type': 'Date', 'value': 1084147200000}, {'type': 'Date', 'value': 1078876800000}, {'type': 'Date', 'value': 1073692800000}, {'type': 'Date', 'value': 1068422400000}, {'type': 'Date', 'value': 1063152000000}, {'type': 'Date', 'value': 1057795200000}, {'type': 'Date', 'value': 1052524800000}, {'type': 'Date', 'value': 1047254400000}, {'type': 'Date', 'value': 1042156800000}, {'type': 'Date', 'value': 1036886400000}, {'type': 'Date', 'value': 1031616000000}, {'type': 'Date', 'value': 1026259200000}, {'type': 'Date', 'value': 1020988800000}, {'type': 'Date', 'value': 1015718400000}, {'type': 'Date', 'value': 1010620800000}, {'type': 'Date', 'value': 1005350400000}, {'type': 'Date', 'value': 1000080000000}, {'type': 'Date', 'value': 994723200000}, {'type': 'Date', 'value': 989452800000}, {'type': 'Date', 'value': 984182400000}, {'type': 'Date', 'value': 979084800000}, {'type': 'Date', 'value': 973814400000}, {'type': 'Date', 'value': 968544000000}, {'type': 'Date', 'value': 963187200000}, {'type': 'Date', 'value': 957916800000}, {'type': 'Date', 'value': 952646400000}, {'type': 'Date', 'value': 947462400000}, {'type': 'Date', 'value': 942192000000}, {'type': 'Date', 'value': 936921600000}, {'type': 'Date', 'value': 931564800000}, {'type': 'Date', 'value': 926294400000}, {'type': 'Date', 'value': 921024000000}, {'type': 'Date', 'value': 915926400000}, {'type': 'Date', 'value': 910656000000}, {'type': 'Date', 'value': 905385600000}, {'type': 'Date', 'value': 900028800000}, {'type': 'Date', 'value': 894758400000}, {'type': 'Date', 'value': 889488000000}, {'type': 'Date', 'value': 884390400000}, {'type': 'Date', 'value': 879120000000}, {'type': 'Date', 'value': 873849600000}, {'type': 'Date', 'value': 868492800000}, {'type': 'Date', 'value': 863222400000}, {'type': 'Date', 'value': 857952000000}, {'type': 'Date', 'value': 852854400000}, {'type': 'Date', 'value': 847584000000}, {'type': 'Date', 'value': 842313600000}, {'type': 'Date', 'value': 836956800000}, {'type': 'Date', 'value': 831686400000}, {'type': 'Date', 'value': 826416000000}, {'type': 'Date', 'value': 821232000000}, {'type': 'Date', 'value': 815961600000}, {'type': 'Date', 'value': 810691200000}, {'type': 'Date', 'value': 805334400000}, {'type': 'Date', 'value': 800064000000}, {'type': 'Date', 'value': 794793600000}, {'type': 'Date', 'value': 789696000000}, {'type': 'Date', 'value': 784425600000}, {'type': 'Date', 'value': 779155200000}, {'type': 'Date', 'value': 773798400000}, {'type': 'Date', 'value': 768528000000}, {'type': 'Date', 'value': 763257600000}, {'type': 'Date', 'value': 758160000000}, {'type': 'Date', 'value': 752889600000}, {'type': 'Date', 'value': 747619200000}, {'type': 'Date', 'value': 742262400000}, {'type': 'Date', 'value': 736992000000}, {'type': 'Date', 'value': 731721600000}, {'type': 'Date', 'value': 726624000000}, {'type': 'Date', 'value': 721353600000}, {'type': 'Date', 'value': 716083200000}, {'type': 'Date', 'value': 710726400000}, {'type': 'Date', 'value': 705456000000}, {'type': 'Date', 'value': 700185600000}, {'type': 'Date', 'value': 695001600000}, {'type': 'Date', 'value': 689731200000}, {'type': 'Date', 'value': 684460800000}, {'type': 'Date', 'value': 679104000000}, {'type': 'Date', 'value': 673833600000}, {'type': 'Date', 'value': 668563200000}, {'type': 'Date', 'value': 663465600000}, {'type': 'Date', 'value': 658195200000}, {'type': 'Date', 'value': 652924800000}, {'type': 'Date', 'value': 647568000000}, {'type': 'Date', 'value': 642297600000}, {'type': 'Date', 'value': 637027200000}, {'type': 'Date', 'value': 631929600000}, {'type': 'Date', 'value': 626659200000}, {'type': 'Date', 'value': 621388800000}, {'type': 'Date', 'value': 616032000000}, {'type': 'Date', 'value': 610761600000}, {'type': 'Date', 'value': 605491200000}, {'type': 'Date', 'value': 600393600000}, {'type': 'Date', 'value': 595123200000}, {'type': 'Date', 'value': 589852800000}, {'type': 'Date', 'value': 584496000000}, {'type': 'Date', 'value': 579225600000}, {'type': 'Date', 'value': 573955200000}, {'type': 'Date', 'value': 568771200000}, {'type': 'Date', 'value': 563500800000}, {'type': 'Date', 'value': 558230400000}, {'type': 'Date', 'value': 552873600000}, {'type': 'Date', 'value': 547603200000}, {'type': 'Date', 'value': 542332800000}, {'type': 'Date', 'value': 537235200000}, {'type': 'Date', 'value': 531964800000}, {'type': 'Date', 'value': 526694400000}, {'type': 'Date', 'value': 521337600000}, {'type': 'Date', 'value': 516067200000}, {'type': 'Date', 'value': 510796800000}, {'type': 'Date', 'value': 505699200000}, {'type': 'Date', 'value': 500428800000}, {'type': 'Date', 'value': 495158400000}, {'type': 'Date', 'value': 489801600000}, {'type': 'Date', 'value': 484531200000}, {'type': 'Date', 'value': 479260800000}, {'type': 'Date', 'value': 474163200000}, {'type': 'Date', 'value': 468892800000}, {'type': 'Date', 'value': 463622400000}, {'type': 'Date', 'value': 458265600000}, {'type': 'Date', 'value': 452995200000}, {'type': 'Date', 'value': 447724800000}, {'type': 'Date', 'value': 442540800000}, {'type': 'Date', 'value': 437270400000}, {'type': 'Date', 'value': 432000000000}, {'type': 'Date', 'value': 426643200000}, {'type': 'Date', 'value': 421372800000}, {'type': 'Date', 'value': 416102400000}, {'type': 'Date', 'value': 411004800000}, {'type': 'Date', 'value': 405734400000}, {'type': 'Date', 'value': 400464000000}, {'type': 'Date', 'value': 395107200000}, {'type': 'Date', 'value': 389836800000}, {'type': 'Date', 'value': 384566400000}, {'type': 'Date', 'value': 379468800000}, {'type': 'Date', 'value': 374198400000}, {'type': 'Date', 'value': 368928000000}, {'type': 'Date', 'value': 363571200000}, {'type': 'Date', 'value': 358300800000}, {'type': 'Date', 'value': 353030400000}, {'type': 'Date', 'value': 347932800000}, {'type': 'Date', 'value': 342662400000}, {'type': 'Date', 'value': 337392000000}]\n"
     ]
    }
   ],
   "source": [
    "print(timeListDate.getInfo())"
   ]
  },
  {
   "cell_type": "code",
   "execution_count": 36,
   "id": "3535bbb8-58b6-4e87-94cc-a1e28358b044",
   "metadata": {},
   "outputs": [
    {
     "data": {
      "text/html": [
       "\n",
       "            <style>\n",
       "                .geemap-dark {\n",
       "                    --jp-widgets-color: white;\n",
       "                    --jp-widgets-label-color: white;\n",
       "                    --jp-ui-font-color1: white;\n",
       "                    --jp-layout-color2: #454545;\n",
       "                    background-color: #383838;\n",
       "                }\n",
       "\n",
       "                .geemap-dark .jupyter-button {\n",
       "                    --jp-layout-color3: #383838;\n",
       "                }\n",
       "\n",
       "                .geemap-colab {\n",
       "                    background-color: var(--colab-primary-surface-color, white);\n",
       "                }\n",
       "\n",
       "                .geemap-colab .jupyter-button {\n",
       "                    --jp-layout-color3: var(--colab-primary-surface-color, white);\n",
       "                }\n",
       "            </style>\n",
       "            "
      ],
      "text/plain": [
       "<IPython.core.display.HTML object>"
      ]
     },
     "metadata": {},
     "output_type": "display_data"
    }
   ],
   "source": [
    "sortedTimeList = timeListDate.sort()"
   ]
  },
  {
   "cell_type": "code",
   "execution_count": 55,
   "id": "6c88997b-ce6b-4e12-904b-ceea01265a38",
   "metadata": {},
   "outputs": [
    {
     "data": {
      "text/html": [
       "\n",
       "            <style>\n",
       "                .geemap-dark {\n",
       "                    --jp-widgets-color: white;\n",
       "                    --jp-widgets-label-color: white;\n",
       "                    --jp-ui-font-color1: white;\n",
       "                    --jp-layout-color2: #454545;\n",
       "                    background-color: #383838;\n",
       "                }\n",
       "\n",
       "                .geemap-dark .jupyter-button {\n",
       "                    --jp-layout-color3: #383838;\n",
       "                }\n",
       "\n",
       "                .geemap-colab {\n",
       "                    background-color: var(--colab-primary-surface-color, white);\n",
       "                }\n",
       "\n",
       "                .geemap-colab .jupyter-button {\n",
       "                    --jp-layout-color3: var(--colab-primary-surface-color, white);\n",
       "                }\n",
       "            </style>\n",
       "            "
      ],
      "text/plain": [
       "<IPython.core.display.HTML object>"
      ]
     },
     "metadata": {},
     "output_type": "display_data"
    }
   ],
   "source": [
    "def precipitation(monthlySum):\n",
    "    startTime = ee.Date(monthlySum).advance(ee.Number.parse(timestep).multiply(-1), 'month')\n",
    "    endTime = ee.Date(monthlySum)\n",
    "    filteredChirps = chirp.filterDate(startTime, endTime)\n",
    "    clippedChirps = filteredChirps.map(lambda clip: clip.clip(studyArea))\n",
    "    imageAmount = clippedChirps.size()\n",
    "    summedCollection = clippedChirps.sum().set({\n",
    "        \"Used_Images\": imageAmount,\n",
    "        'Start_Date': ee.Date(filteredChirps.first().get('system:time_start')),\n",
    "        'End_Date': ee.Date(filteredChirps.limit(1, 'system:time_end', False).first().get('system:time_end')),\n",
    "        'system:time_start': filteredChirps.first().get('system:time_start'),\n",
    "        'system:time_end': ee.Date(filteredChirps.limit(1, 'system:time_end', False).first().get('system:time_end'))\n",
    "    })\n",
    "    time = ee.Date(summedCollection.get('system:time_end')).difference(ee.Date(summedCollection.get('system:time_start')), 'month').round()\n",
    "    summedImage = summedCollection.set({\n",
    "        'Observed_Months': time\n",
    "    })\n",
    "    return ee.Algorithms.If(\n",
    "        time.gte(ee.Number.parse(timestep)),  \n",
    "        summedImage,)"
   ]
  },
  {
   "cell_type": "code",
   "execution_count": 56,
   "id": "fdb4e1b6-e4e5-4e43-b9d7-3aff22e0fefd",
   "metadata": {},
   "outputs": [
    {
     "data": {
      "text/html": [
       "\n",
       "            <style>\n",
       "                .geemap-dark {\n",
       "                    --jp-widgets-color: white;\n",
       "                    --jp-widgets-label-color: white;\n",
       "                    --jp-ui-font-color1: white;\n",
       "                    --jp-layout-color2: #454545;\n",
       "                    background-color: #383838;\n",
       "                }\n",
       "\n",
       "                .geemap-dark .jupyter-button {\n",
       "                    --jp-layout-color3: #383838;\n",
       "                }\n",
       "\n",
       "                .geemap-colab {\n",
       "                    background-color: var(--colab-primary-surface-color, white);\n",
       "                }\n",
       "\n",
       "                .geemap-colab .jupyter-button {\n",
       "                    --jp-layout-color3: var(--colab-primary-surface-color, white);\n",
       "                }\n",
       "            </style>\n",
       "            "
      ],
      "text/plain": [
       "<IPython.core.display.HTML object>"
      ]
     },
     "metadata": {},
     "output_type": "display_data"
    }
   ],
   "source": [
    "# calculate summed Chirps\n",
    "precipitationSum = ee.ImageCollection.fromImages(timeListDate.map(precipitation))"
   ]
  },
  {
   "cell_type": "code",
   "execution_count": 60,
   "id": "12ab5d98-fb32-4691-8a13-4c56ffef8f94",
   "metadata": {},
   "outputs": [
    {
     "data": {
      "text/html": [
       "\n",
       "            <style>\n",
       "                .geemap-dark {\n",
       "                    --jp-widgets-color: white;\n",
       "                    --jp-widgets-label-color: white;\n",
       "                    --jp-ui-font-color1: white;\n",
       "                    --jp-layout-color2: #454545;\n",
       "                    background-color: #383838;\n",
       "                }\n",
       "\n",
       "                .geemap-dark .jupyter-button {\n",
       "                    --jp-layout-color3: #383838;\n",
       "                }\n",
       "\n",
       "                .geemap-colab {\n",
       "                    background-color: var(--colab-primary-surface-color, white);\n",
       "                }\n",
       "\n",
       "                .geemap-colab .jupyter-button {\n",
       "                    --jp-layout-color3: var(--colab-primary-surface-color, white);\n",
       "                }\n",
       "            </style>\n",
       "            "
      ],
      "text/plain": [
       "<IPython.core.display.HTML object>"
      ]
     },
     "metadata": {},
     "output_type": "display_data"
    }
   ],
   "source": [
    "#copy properties \n",
    "summedChirpsCollection = ee.ImageCollection(precipitationSum.copyProperties(chirp))"
   ]
  },
  {
   "cell_type": "code",
   "execution_count": null,
   "id": "dd0d568d-79fd-4dd6-81bc-36381d84a72a",
   "metadata": {},
   "outputs": [],
   "source": []
  },
  {
   "cell_type": "code",
   "execution_count": null,
   "id": "95c56c62-d5ef-4c9a-a91d-8e22c36da991",
   "metadata": {},
   "outputs": [],
   "source": [
    "# SPI for 12 or more months\n",
    "def SpiGreaterEqual12():\n",
    "    # Calculate global statistics across the entire collection\n",
    "    stats = summedChirpsCollection.reduce(\n",
    "        ee.Reducer.stdDev().combine(ee.Reducer.mean(), None, True)\n",
    "    )\n",
    "    \n",
    "    # Apply SPI calculation to each image\n",
    "    def calcSPI(image):\n",
    "        # Make sure we have the precipitation band\n",
    "        precipBand = image.select('precipitation')\n",
    "        \n",
    "        # Calculate SPI using the global statistics\n",
    "        spi = precipBand.subtract(stats.select('precipitation_mean'))\\\n",
    "                         .divide(stats.select('precipitation_stdDev'))\\\n",
    "                         .rename('SPI')\n",
    "        \n",
    "        # Add the SPI band to the original image\n",
    "        return image.addBands(spi)\n",
    "    \n",
    "    # Apply SPI calculation to each image in the collection\n",
    "    return summedChirpsCollection.map(calcSPI)\n",
    "\n"
   ]
  },
  {
   "cell_type": "code",
   "execution_count": 117,
   "id": "925cd04c-254e-4dee-b07e-8712d43bc948",
   "metadata": {},
   "outputs": [
    {
     "data": {
      "text/html": [
       "\n",
       "            <style>\n",
       "                .geemap-dark {\n",
       "                    --jp-widgets-color: white;\n",
       "                    --jp-widgets-label-color: white;\n",
       "                    --jp-ui-font-color1: white;\n",
       "                    --jp-layout-color2: #454545;\n",
       "                    background-color: #383838;\n",
       "                }\n",
       "\n",
       "                .geemap-dark .jupyter-button {\n",
       "                    --jp-layout-color3: #383838;\n",
       "                }\n",
       "\n",
       "                .geemap-colab {\n",
       "                    background-color: var(--colab-primary-surface-color, white);\n",
       "                }\n",
       "\n",
       "                .geemap-colab .jupyter-button {\n",
       "                    --jp-layout-color3: var(--colab-primary-surface-color, white);\n",
       "                }\n",
       "            </style>\n",
       "            "
      ],
      "text/plain": [
       "<IPython.core.display.HTML object>"
      ]
     },
     "metadata": {},
     "output_type": "display_data"
    },
    {
     "ename": "SyntaxError",
     "evalue": "invalid syntax. Maybe you meant '==' or ':=' instead of '='? (3369408953.py, line 7)",
     "output_type": "error",
     "traceback": [
      "\u001b[1;36m  Cell \u001b[1;32mIn[117], line 7\u001b[1;36m\u001b[0m\n\u001b[1;33m    doyCollection = summedChirpsCollection.filter(\u001b[0m\n\u001b[1;37m    ^\u001b[0m\n\u001b[1;31mSyntaxError\u001b[0m\u001b[1;31m:\u001b[0m invalid syntax. Maybe you meant '==' or ':=' instead of '='?\n"
     ]
    }
   ],
   "source": [
    "# SPI for less than 12 months (using DOY-based statistics)\n",
    "def SpiSmaller12():\n",
    "    # First, calculate statistics for each day of year\n",
    "    doyStats = ee.ImageCollection.fromImages(\n",
    "        ee.List.sequence(1, 366).map(function(doy) {\n",
    "            # Filter to this day of year across all years\n",
    "            doyCollection = summedChirpsCollection.filter(\n",
    "                ee.Filter.calendarRange(doy, doy, 'day_of_year')\n",
    "            )\n",
    "            \n",
    "            # Calculate statistics for this DOY\n",
    "            stats = doyCollection.select('precipitation').reduce(\n",
    "                ee.Reducer.mean().combine(ee.Reducer.stdDev(), None, True)\n",
    "            )\n",
    "            \n",
    "            # Add DOY property for later reference\n",
    "            return stats.set('doy', doy)\n",
    "        })\n",
    "    )\n",
    "    \n",
    "    # Function to calculate SPI for each image\n",
    "    def calcSPI(image):\n",
    "        # Get the DOY for this image\n",
    "        doy = ee.Date(image.get('system:time_start')).getRelative('day', 'year')\n",
    "        \n",
    "        # Get the statistics for this DOY\n",
    "        doyStatsImage = doyStats.filter(ee.Filter.eq('doy', doy)).first()\n",
    "        \n",
    "        # Calculate SPI\n",
    "        precipBand = image.select('precipitation')\n",
    "        spi = precipBand.subtract(doyStatsImage.select('precipitation_mean'))\\\n",
    "                        .divide(doyStatsImage.select('precipitation_stdDev'))\\\n",
    "                        .rename('SPI')\n",
    "        \n",
    "        # Add SPI band to original image\n",
    "        return image.addBands(spi)\n",
    "    \n",
    "    # Apply SPI calculation to each image\n",
    "    return summedChirpsCollection.map(calcSPI)"
   ]
  },
  {
   "cell_type": "code",
   "execution_count": 104,
   "id": "143b7e56-3170-414b-bd94-faabedf08f38",
   "metadata": {},
   "outputs": [
    {
     "data": {
      "text/html": [
       "\n",
       "            <style>\n",
       "                .geemap-dark {\n",
       "                    --jp-widgets-color: white;\n",
       "                    --jp-widgets-label-color: white;\n",
       "                    --jp-ui-font-color1: white;\n",
       "                    --jp-layout-color2: #454545;\n",
       "                    background-color: #383838;\n",
       "                }\n",
       "\n",
       "                .geemap-dark .jupyter-button {\n",
       "                    --jp-layout-color3: #383838;\n",
       "                }\n",
       "\n",
       "                .geemap-colab {\n",
       "                    background-color: var(--colab-primary-surface-color, white);\n",
       "                }\n",
       "\n",
       "                .geemap-colab .jupyter-button {\n",
       "                    --jp-layout-color3: var(--colab-primary-surface-color, white);\n",
       "                }\n",
       "            </style>\n",
       "            "
      ],
      "text/plain": [
       "<IPython.core.display.HTML object>"
      ]
     },
     "metadata": {},
     "output_type": "display_data"
    }
   ],
   "source": [
    "# If the SPI should be calculated for less than 12 months, the DOY information has to be used to find the correct images.\n",
    "def SpiSmaller12():\n",
    "    # calculate statistics\n",
    "    def chirpStat(toStats):\n",
    "        startDoY = ee.Date(toStats.get('system:time_start')).getRelative('day', 'year')\n",
    "        endDoY = ee.Date(toStats.get('system:time_end')).getRelative('day', 'year')\n",
    "        collectionForStats = (\n",
    "            summedChirpsCollection.filter(ee.Filter.calendarRange(startDoY, \n",
    "                                                                  endDoY, \n",
    "                                                                  'day_of_year')\n",
    "                                         )\n",
    "        )\n",
    "        return toStats.addBands(collectionForStats)\n",
    "    \n",
    "    stats = summedChirpsCollection.map(chirpStat)\n",
    "    \n",
    "    # Calculate SPI\n",
    "    def calcSPI(toSPI):\n",
    "        bandForSPI = toSPI.select(['precipitation'], ['SPI'])\n",
    "        calc = (\n",
    "            toSPI.expression('(precipitation - mean) / stdDev',\n",
    "                             {\n",
    "                                 'precipitation': bandForSPI,\n",
    "                                 'mean': toSPI.select('precipitation_mean'),\n",
    "                                 'stdDev': toSPI.select('precipitation_stdDev')})\n",
    "        )\n",
    "        return toSPI.addBands(calc)\n",
    "    \n",
    "    SPI1_ll = stats.map(calcSPI)\n",
    "    return SPI1_ll"
   ]
  },
  {
   "cell_type": "code",
   "execution_count": 114,
   "id": "0b234267-279f-4e10-95ce-1a51b9ecace2",
   "metadata": {},
   "outputs": [
    {
     "data": {
      "text/html": [
       "\n",
       "            <style>\n",
       "                .geemap-dark {\n",
       "                    --jp-widgets-color: white;\n",
       "                    --jp-widgets-label-color: white;\n",
       "                    --jp-ui-font-color1: white;\n",
       "                    --jp-layout-color2: #454545;\n",
       "                    background-color: #383838;\n",
       "                }\n",
       "\n",
       "                .geemap-dark .jupyter-button {\n",
       "                    --jp-layout-color3: #383838;\n",
       "                }\n",
       "\n",
       "                .geemap-colab {\n",
       "                    background-color: var(--colab-primary-surface-color, white);\n",
       "                }\n",
       "\n",
       "                .geemap-colab .jupyter-button {\n",
       "                    --jp-layout-color3: var(--colab-primary-surface-color, white);\n",
       "                }\n",
       "            </style>\n",
       "            "
      ],
      "text/plain": [
       "<IPython.core.display.HTML object>"
      ]
     },
     "metadata": {},
     "output_type": "display_data"
    }
   ],
   "source": [
    "# SPI for 12 or more months\n",
    "def SpiGreaterEqual12():\n",
    "    # Calculate Statistics\n",
    "    def stat(toStats):\n",
    "        collectionForStats = (\n",
    "            summedChirpsCollection\n",
    "            .reduce(ee.Reducer.stdDev().combine(ee.Reducer.mean()))\n",
    "        )\n",
    "        return toStats.addBands(collectionForStats)\n",
    "    stats = summedChirpsCollection.map(stat)\n",
    "    \n",
    "    # Calculate SPI\n",
    "    def SPI(toSPI):\n",
    "        bandForSPI = toSPI.select(['precipitation'], ['SPI'])\n",
    "        calc = (\n",
    "            toSPI.expression('(precipitation - mean) / stdDev',\n",
    "                             {\n",
    "                                 'precipitation': bandForSPI,\n",
    "                                 'mean': toSPI.select('precipitation_mean'),\n",
    "                                 'stdDev': toSPI.select('precipitation_stdDev')})\n",
    "        )\n",
    "        return toSPI.addBands(calc)\n",
    "    SPI12_n = stats.map(SPI)\n",
    "    return SPI12_n"
   ]
  },
  {
   "cell_type": "code",
   "execution_count": 115,
   "id": "012cd301-61a9-4a0c-be9a-c874a9846745",
   "metadata": {},
   "outputs": [
    {
     "data": {
      "text/html": [
       "\n",
       "            <style>\n",
       "                .geemap-dark {\n",
       "                    --jp-widgets-color: white;\n",
       "                    --jp-widgets-label-color: white;\n",
       "                    --jp-ui-font-color1: white;\n",
       "                    --jp-layout-color2: #454545;\n",
       "                    background-color: #383838;\n",
       "                }\n",
       "\n",
       "                .geemap-dark .jupyter-button {\n",
       "                    --jp-layout-color3: #383838;\n",
       "                }\n",
       "\n",
       "                .geemap-colab {\n",
       "                    background-color: var(--colab-primary-surface-color, white);\n",
       "                }\n",
       "\n",
       "                .geemap-colab .jupyter-button {\n",
       "                    --jp-layout-color3: var(--colab-primary-surface-color, white);\n",
       "                }\n",
       "            </style>\n",
       "            "
      ],
      "text/plain": [
       "<IPython.core.display.HTML object>"
      ]
     },
     "metadata": {},
     "output_type": "display_data"
    }
   ],
   "source": [
    "SPI = ee.ImageCollection(ee.Algorithms.If(ee.Number.parse(timestep).gte(thresholdMonths), \n",
    "                                          SpiGreaterEqual12(), \n",
    "                                          SpiSmaller12()))"
   ]
  },
  {
   "cell_type": "code",
   "execution_count": 116,
   "id": "14211cc2-111c-4749-b4ea-4e204834230b",
   "metadata": {},
   "outputs": [
    {
     "data": {
      "text/html": [
       "\n",
       "            <style>\n",
       "                .geemap-dark {\n",
       "                    --jp-widgets-color: white;\n",
       "                    --jp-widgets-label-color: white;\n",
       "                    --jp-ui-font-color1: white;\n",
       "                    --jp-layout-color2: #454545;\n",
       "                    background-color: #383838;\n",
       "                }\n",
       "\n",
       "                .geemap-dark .jupyter-button {\n",
       "                    --jp-layout-color3: #383838;\n",
       "                }\n",
       "\n",
       "                .geemap-colab {\n",
       "                    background-color: var(--colab-primary-surface-color, white);\n",
       "                }\n",
       "\n",
       "                .geemap-colab .jupyter-button {\n",
       "                    --jp-layout-color3: var(--colab-primary-surface-color, white);\n",
       "                }\n",
       "            </style>\n",
       "            "
      ],
      "text/plain": [
       "<IPython.core.display.HTML object>"
      ]
     },
     "metadata": {},
     "output_type": "display_data"
    },
    {
     "ename": "EEException",
     "evalue": "Element.get: Parameter 'object' is required and may not be null.",
     "output_type": "error",
     "traceback": [
      "\u001b[1;31m---------------------------------------------------------------------------\u001b[0m",
      "\u001b[1;31mHttpError\u001b[0m                                 Traceback (most recent call last)",
      "File \u001b[1;32m~\\Downloads\\Documents\\anaconda\\envs\\gee\\Lib\\site-packages\\ee\\data.py:408\u001b[0m, in \u001b[0;36m_execute_cloud_call\u001b[1;34m(call, num_retries)\u001b[0m\n\u001b[0;32m    407\u001b[0m \u001b[38;5;28;01mtry\u001b[39;00m:\n\u001b[1;32m--> 408\u001b[0m   \u001b[38;5;28;01mreturn\u001b[39;00m \u001b[43mcall\u001b[49m\u001b[38;5;241;43m.\u001b[39;49m\u001b[43mexecute\u001b[49m\u001b[43m(\u001b[49m\u001b[43mnum_retries\u001b[49m\u001b[38;5;241;43m=\u001b[39;49m\u001b[43mnum_retries\u001b[49m\u001b[43m)\u001b[49m\n\u001b[0;32m    409\u001b[0m \u001b[38;5;28;01mexcept\u001b[39;00m googleapiclient\u001b[38;5;241m.\u001b[39merrors\u001b[38;5;241m.\u001b[39mHttpError \u001b[38;5;28;01mas\u001b[39;00m e:\n",
      "File \u001b[1;32m~\\Downloads\\Documents\\anaconda\\envs\\gee\\Lib\\site-packages\\googleapiclient\\_helpers.py:130\u001b[0m, in \u001b[0;36mpositional.<locals>.positional_decorator.<locals>.positional_wrapper\u001b[1;34m(*args, **kwargs)\u001b[0m\n\u001b[0;32m    129\u001b[0m         logger\u001b[38;5;241m.\u001b[39mwarning(message)\n\u001b[1;32m--> 130\u001b[0m \u001b[38;5;28;01mreturn\u001b[39;00m \u001b[43mwrapped\u001b[49m\u001b[43m(\u001b[49m\u001b[38;5;241;43m*\u001b[39;49m\u001b[43margs\u001b[49m\u001b[43m,\u001b[49m\u001b[43m \u001b[49m\u001b[38;5;241;43m*\u001b[39;49m\u001b[38;5;241;43m*\u001b[39;49m\u001b[43mkwargs\u001b[49m\u001b[43m)\u001b[49m\n",
      "File \u001b[1;32m~\\Downloads\\Documents\\anaconda\\envs\\gee\\Lib\\site-packages\\googleapiclient\\http.py:938\u001b[0m, in \u001b[0;36mHttpRequest.execute\u001b[1;34m(self, http, num_retries)\u001b[0m\n\u001b[0;32m    937\u001b[0m \u001b[38;5;28;01mif\u001b[39;00m resp\u001b[38;5;241m.\u001b[39mstatus \u001b[38;5;241m>\u001b[39m\u001b[38;5;241m=\u001b[39m \u001b[38;5;241m300\u001b[39m:\n\u001b[1;32m--> 938\u001b[0m     \u001b[38;5;28;01mraise\u001b[39;00m HttpError(resp, content, uri\u001b[38;5;241m=\u001b[39m\u001b[38;5;28mself\u001b[39m\u001b[38;5;241m.\u001b[39muri)\n\u001b[0;32m    939\u001b[0m \u001b[38;5;28;01mreturn\u001b[39;00m \u001b[38;5;28mself\u001b[39m\u001b[38;5;241m.\u001b[39mpostproc(resp, content)\n",
      "\u001b[1;31mHttpError\u001b[0m: <HttpError 400 when requesting https://earthengine.googleapis.com/v1/projects/8171898326/value:compute?prettyPrint=false&alt=json returned \"Element.get: Parameter 'object' is required and may not be null.\". Details: \"Element.get: Parameter 'object' is required and may not be null.\">",
      "\nDuring handling of the above exception, another exception occurred:\n",
      "\u001b[1;31mEEException\u001b[0m                               Traceback (most recent call last)",
      "Cell \u001b[1;32mIn[116], line 1\u001b[0m\n\u001b[1;32m----> 1\u001b[0m \u001b[43mSPI\u001b[49m\u001b[38;5;241;43m.\u001b[39;49m\u001b[43msize\u001b[49m\u001b[43m(\u001b[49m\u001b[43m)\u001b[49m\u001b[38;5;241;43m.\u001b[39;49m\u001b[43mgetInfo\u001b[49m\u001b[43m(\u001b[49m\u001b[43m)\u001b[49m\n",
      "File \u001b[1;32m~\\Downloads\\Documents\\anaconda\\envs\\gee\\Lib\\site-packages\\ee\\computedobject.py:107\u001b[0m, in \u001b[0;36mComputedObject.getInfo\u001b[1;34m(self)\u001b[0m\n\u001b[0;32m    101\u001b[0m \u001b[38;5;28;01mdef\u001b[39;00m\u001b[38;5;250m \u001b[39m\u001b[38;5;21mgetInfo\u001b[39m(\u001b[38;5;28mself\u001b[39m) \u001b[38;5;241m-\u001b[39m\u001b[38;5;241m>\u001b[39m Optional[Any]:\n\u001b[0;32m    102\u001b[0m \u001b[38;5;250m  \u001b[39m\u001b[38;5;124;03m\"\"\"Fetch and return information about this object.\u001b[39;00m\n\u001b[0;32m    103\u001b[0m \n\u001b[0;32m    104\u001b[0m \u001b[38;5;124;03m  Returns:\u001b[39;00m\n\u001b[0;32m    105\u001b[0m \u001b[38;5;124;03m    The object can evaluate to anything.\u001b[39;00m\n\u001b[0;32m    106\u001b[0m \u001b[38;5;124;03m  \"\"\"\u001b[39;00m\n\u001b[1;32m--> 107\u001b[0m   \u001b[38;5;28;01mreturn\u001b[39;00m \u001b[43mdata\u001b[49m\u001b[38;5;241;43m.\u001b[39;49m\u001b[43mcomputeValue\u001b[49m\u001b[43m(\u001b[49m\u001b[38;5;28;43mself\u001b[39;49m\u001b[43m)\u001b[49m\n",
      "File \u001b[1;32m~\\Downloads\\Documents\\anaconda\\envs\\gee\\Lib\\site-packages\\ee\\data.py:1128\u001b[0m, in \u001b[0;36mcomputeValue\u001b[1;34m(obj)\u001b[0m\n\u001b[0;32m   1125\u001b[0m body \u001b[38;5;241m=\u001b[39m {\u001b[38;5;124m'\u001b[39m\u001b[38;5;124mexpression\u001b[39m\u001b[38;5;124m'\u001b[39m: serializer\u001b[38;5;241m.\u001b[39mencode(obj, for_cloud_api\u001b[38;5;241m=\u001b[39m\u001b[38;5;28;01mTrue\u001b[39;00m)}\n\u001b[0;32m   1126\u001b[0m _maybe_populate_workload_tag(body)\n\u001b[1;32m-> 1128\u001b[0m \u001b[38;5;28;01mreturn\u001b[39;00m \u001b[43m_execute_cloud_call\u001b[49m\u001b[43m(\u001b[49m\n\u001b[0;32m   1129\u001b[0m \u001b[43m    \u001b[49m\u001b[43m_get_cloud_projects\u001b[49m\u001b[43m(\u001b[49m\u001b[43m)\u001b[49m\n\u001b[0;32m   1130\u001b[0m \u001b[43m    \u001b[49m\u001b[38;5;241;43m.\u001b[39;49m\u001b[43mvalue\u001b[49m\u001b[43m(\u001b[49m\u001b[43m)\u001b[49m\n\u001b[0;32m   1131\u001b[0m \u001b[43m    \u001b[49m\u001b[38;5;241;43m.\u001b[39;49m\u001b[43mcompute\u001b[49m\u001b[43m(\u001b[49m\u001b[43mbody\u001b[49m\u001b[38;5;241;43m=\u001b[39;49m\u001b[43mbody\u001b[49m\u001b[43m,\u001b[49m\u001b[43m \u001b[49m\u001b[43mproject\u001b[49m\u001b[38;5;241;43m=\u001b[39;49m\u001b[43m_get_projects_path\u001b[49m\u001b[43m(\u001b[49m\u001b[43m)\u001b[49m\u001b[43m,\u001b[49m\u001b[43m \u001b[49m\u001b[43mprettyPrint\u001b[49m\u001b[38;5;241;43m=\u001b[39;49m\u001b[38;5;28;43;01mFalse\u001b[39;49;00m\u001b[43m)\u001b[49m\n\u001b[0;32m   1132\u001b[0m \u001b[43m\u001b[49m\u001b[43m)\u001b[49m[\u001b[38;5;124m'\u001b[39m\u001b[38;5;124mresult\u001b[39m\u001b[38;5;124m'\u001b[39m]\n",
      "File \u001b[1;32m~\\Downloads\\Documents\\anaconda\\envs\\gee\\Lib\\site-packages\\ee\\data.py:410\u001b[0m, in \u001b[0;36m_execute_cloud_call\u001b[1;34m(call, num_retries)\u001b[0m\n\u001b[0;32m    408\u001b[0m   \u001b[38;5;28;01mreturn\u001b[39;00m call\u001b[38;5;241m.\u001b[39mexecute(num_retries\u001b[38;5;241m=\u001b[39mnum_retries)\n\u001b[0;32m    409\u001b[0m \u001b[38;5;28;01mexcept\u001b[39;00m googleapiclient\u001b[38;5;241m.\u001b[39merrors\u001b[38;5;241m.\u001b[39mHttpError \u001b[38;5;28;01mas\u001b[39;00m e:\n\u001b[1;32m--> 410\u001b[0m   \u001b[38;5;28;01mraise\u001b[39;00m _translate_cloud_exception(e)\n",
      "\u001b[1;31mEEException\u001b[0m: Element.get: Parameter 'object' is required and may not be null."
     ]
    }
   ],
   "source": [
    "SPI.size().getInfo()"
   ]
  },
  {
   "cell_type": "code",
   "execution_count": null,
   "id": "51232c9e-b304-4631-9e7b-77c10803b901",
   "metadata": {
    "scrolled": true
   },
   "outputs": [],
   "source": [
    "# Define the visualization parameters for the SPI layer\n",
    "SPI_monthly_vis = {\n",
    "    \"opacity\": 1,\n",
    "    \"bands\": [\"SPI\"],\n",
    "    \"min\": -1,\n",
    "    \"max\": 0.2,\n",
    "    \"palette\": ['d53e4f', 'fc8d59', 'fee08b', 'ffffbf', 'e6f598', '99d594', '3288bd']\n",
    "}\n",
    "\n",
    "\n",
    "# Get the most recent SPI image\n",
    "latest_spi = SPI.limit(1, 'system:time_start', False)\n",
    "\n",
    "# Get the start date for the layer name\n",
    "start_date = ee.Date(latest_spi.first().get('system:time_start')).format('YYYY-MM').getInfo()\n",
    "\n",
    "# Add the SPI layer to the map\n",
    "m.addLayer(\n",
    "    latest_spi, \n",
    "    SPI_monthly_vis, \n",
    "    'SPI-' + str(timestep) + ' from ' + start_date\n",
    ")\n",
    "\n",
    "# Display the map\n",
    "m"
   ]
  },
  {
   "cell_type": "code",
   "execution_count": 95,
   "id": "cfce1ec1-da78-47a8-85ab-e55a781cc732",
   "metadata": {},
   "outputs": [
    {
     "data": {
      "text/html": [
       "\n",
       "            <style>\n",
       "                .geemap-dark {\n",
       "                    --jp-widgets-color: white;\n",
       "                    --jp-widgets-label-color: white;\n",
       "                    --jp-ui-font-color1: white;\n",
       "                    --jp-layout-color2: #454545;\n",
       "                    background-color: #383838;\n",
       "                }\n",
       "\n",
       "                .geemap-dark .jupyter-button {\n",
       "                    --jp-layout-color3: #383838;\n",
       "                }\n",
       "\n",
       "                .geemap-colab {\n",
       "                    background-color: var(--colab-primary-surface-color, white);\n",
       "                }\n",
       "\n",
       "                .geemap-colab .jupyter-button {\n",
       "                    --jp-layout-color3: var(--colab-primary-surface-color, white);\n",
       "                }\n",
       "            </style>\n",
       "            "
      ],
      "text/plain": [
       "<IPython.core.display.HTML object>"
      ]
     },
     "metadata": {},
     "output_type": "display_data"
    },
    {
     "data": {
      "application/vnd.jupyter.widget-view+json": {
       "model_id": "1fcfcca7b255436a8439b2bd59c938be",
       "version_major": 2,
       "version_minor": 0
      },
      "text/plain": [
       "Map(bottom=31629.0, center=[7.879706021125551, 10.947354891686972], controls=(WidgetControl(options=['position…"
      ]
     },
     "execution_count": 95,
     "metadata": {},
     "output_type": "execute_result"
    }
   ],
   "source": [
    "m"
   ]
  },
  {
   "cell_type": "code",
   "execution_count": null,
   "id": "fb45f132-2534-4c00-99ae-2c14140460e9",
   "metadata": {},
   "outputs": [],
   "source": []
  }
 ],
 "metadata": {
  "kernelspec": {
   "display_name": "Python 3 (ipykernel)",
   "language": "python",
   "name": "python3"
  },
  "language_info": {
   "codemirror_mode": {
    "name": "ipython",
    "version": 3
   },
   "file_extension": ".py",
   "mimetype": "text/x-python",
   "name": "python",
   "nbconvert_exporter": "python",
   "pygments_lexer": "ipython3",
   "version": "3.13.1"
  }
 },
 "nbformat": 4,
 "nbformat_minor": 5
}
